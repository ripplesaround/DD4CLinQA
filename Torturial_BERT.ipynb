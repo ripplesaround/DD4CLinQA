{
 "cells": [
  {
   "cell_type": "markdown",
   "metadata": {},
   "source": [
    "# Explain a saved pytorch NLP model\n",
    "\n",
    "*This is a torturial on how to explain any saved pytorch model. We use pre-trained BERT model for simplicity as an example*"
   ]
  },
  {
   "cell_type": "markdown",
   "metadata": {},
   "source": [
    "### Prepare Phi, x, words and regularization term\n",
    "\n",
    "we first load the pre-trained model we need to explain and define the sentence we use in our case. The sentence we use is `rare bird has more than enough charm to make it memorable.`, and the layer we explain in BERT is the 3rd layer."
   ]
  },
  {
   "cell_type": "code",
   "execution_count": 1,
   "metadata": {},
   "outputs": [],
   "source": [
    "from pytorch_pretrained_bert import BertModel, BertTokenizer\n",
    "import torch\n",
    "import json\n",
    "import logging\n",
    "\n",
    "logging.getLogger().setLevel(logging.WARNING)\n",
    "\n",
    "device = torch.device(\"cuda\" if torch.cuda.is_available() else \"cpu\")\n",
    "\n",
    "# the sentence in our case.\n",
    "text = \"rare bird has more than enough charm to make it memorable.\"\n",
    "\n",
    "# get the tokenized words.\n",
    "tokenizer = BertTokenizer.from_pretrained(\"bert-base-uncased\")\n",
    "words = [\"[CLS]\"] + tokenizer.tokenize(text) + [\"[SEP]\"]\n",
    "\n",
    "# load bert model\n",
    "model = BertModel.from_pretrained(\"bert-base-uncased\").to(device)\n",
    "for param in model.parameters():\n",
    "    param.requires_grad = False\n",
    "model.eval()\n",
    "\n",
    "# get the x (here we get x by hacking the code in the bert package)\n",
    "tokenized_ids = tokenizer.convert_tokens_to_ids(words)\n",
    "segment_ids = [0 for _ in range(len(words))]\n",
    "token_tensor = torch.tensor([tokenized_ids], device=device)\n",
    "segment_tensor = torch.tensor([segment_ids], device=device)\n",
    "x = model.embeddings(token_tensor, segment_tensor)[0]\n",
    "\n",
    "# here, we load the regularization we already calculated for simplicity\n",
    "regularization = json.load(open(\"regular.json\", \"r\"))\n",
    "\n",
    "# extract the Phi we need to explain\n",
    "def Phi(x):\n",
    "    global model\n",
    "    x = x.unsqueeze(0)\n",
    "    attention_mask = torch.ones(x.shape[:2]).to(x.device)\n",
    "    extended_attention_mask = attention_mask.unsqueeze(1).unsqueeze(2)\n",
    "    extended_attention_mask = extended_attention_mask.to(dtype=torch.float)\n",
    "    extended_attention_mask = (1.0 - extended_attention_mask) * -10000.0\n",
    "    # extract the 3rd layer\n",
    "    model_list = model.encoder.layer[:3]\n",
    "    hidden_states = x\n",
    "    for layer_module in model_list:\n",
    "        hidden_states = layer_module(hidden_states, extended_attention_mask)\n",
    "    return hidden_states[0]"
   ]
  },
  {
   "cell_type": "markdown",
   "metadata": {},
   "source": [
    "### Explain the Phi and x\n",
    "\n",
    "We first initialize an interpreter class, and pass necessary parameters in it."
   ]
  },
  {
   "cell_type": "code",
   "execution_count": 2,
   "metadata": {},
   "outputs": [],
   "source": [
    "from Interpreter import Interpreter\n",
    "\n",
    "interpreter = Interpreter(x=x, Phi=Phi, regularization=regularization, words=words).to(\n",
    "    device\n",
    ")"
   ]
  },
  {
   "cell_type": "markdown",
   "metadata": {},
   "source": [
    "We optimize the interpreter to get the result."
   ]
  },
  {
   "cell_type": "code",
   "execution_count": 3,
   "metadata": {},
   "outputs": [],
   "source": [
    "interpreter.optimize(iteration=5000, lr=0.01, show_progress=False)"
   ]
  },
  {
   "cell_type": "markdown",
   "metadata": {},
   "source": [
    "Then, we can get the sigma we have optimized"
   ]
  },
  {
   "cell_type": "code",
   "execution_count": 4,
   "metadata": {
    "scrolled": true
   },
   "outputs": [
    {
     "data": {
      "text/plain": [
       "array([0.17756101, 0.14380291, 0.15160355, 0.23105706, 0.21252151,\n",
       "       0.20955776, 0.18730533, 0.1380216 , 0.26319018, 0.23216105,\n",
       "       0.24160075, 0.13294625, 0.27567503, 0.3655964 ], dtype=float32)"
      ]
     },
     "execution_count": 4,
     "metadata": {},
     "output_type": "execute_result"
    }
   ],
   "source": [
    "interpreter.get_sigma()"
   ]
  },
  {
   "cell_type": "markdown",
   "metadata": {},
   "source": [
    "Finally, we visualize the explained result."
   ]
  },
  {
   "cell_type": "code",
   "execution_count": 5,
   "metadata": {},
   "outputs": [
    {
     "data": {
      "image/png": "[encoded data removed]",
      "text/plain": [
       "<Figure size 432x288 with 1 Axes>"
      ]
     },
     "metadata": {
      "needs_background": "light"
     },
     "output_type": "display_data"
    }
   ],
   "source": [
    "interpreter.visualize()"
   ]
  },
  {
   "cell_type": "markdown",
   "metadata": {},
   "source": [
    "We can see that the word 'rare', 'bird', 'charm', 'memorable' is important to the third layer."
   ]
  }
 ],
 "metadata": {
  "kernelspec": {
   "display_name": "Python 3",
   "language": "python",
   "name": "python3"
  },
  "language_info": {
   "codemirror_mode": {
    "name": "ipython",
    "version": 3
   },
   "file_extension": ".py",
   "mimetype": "text/x-python",
   "name": "python",
   "nbconvert_exporter": "python",
   "pygments_lexer": "ipython3",
   "version": "3.6.8"
  }
 },
 "nbformat": 4,
 "nbformat_minor": 2
}
